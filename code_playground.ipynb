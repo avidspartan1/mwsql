{
 "cells": [
  {
   "cell_type": "markdown",
   "metadata": {},
   "source": [
    "<a class=\"anchor\" id=\"top\"></a>\n",
    "# Code Playground\n",
    "\n",
    "A quick way to explore the main functionality of the package either locally or in PAWS.\n",
    "\n",
    "[Click here](#playground) to skip ahead and see the code in action."
   ]
  },
  {
   "cell_type": "code",
   "execution_count": 1,
   "metadata": {},
   "outputs": [
    {
     "name": "stdout",
     "output_type": "stream",
     "text": [
      "Requirement already satisfied: wget in /Users/vina/.virtualenvs/mwsql/lib/python3.8/site-packages (3.2)\r\n"
     ]
    }
   ],
   "source": [
    "!pip install wget"
   ]
  },
  {
   "cell_type": "markdown",
   "metadata": {},
   "source": [
    "## Code\n",
    "\n",
    "### Contents of /src/mwsql/utils.py"
   ]
  },
  {
   "cell_type": "code",
   "execution_count": 4,
   "metadata": {},
   "outputs": [],
   "source": [
    "'''Helper functions used in src/mwsql.py'''\n",
    "\n",
    "import csv\n",
    "import gzip\n",
    "import re\n",
    "import sys\n",
    "\n",
    "from typing import List\n",
    "\n",
    "# Allow long field names\n",
    "csv.field_size_limit(sys.maxsize)\n",
    "\n",
    "\n",
    "def head(file_path, n_lines=10):\n",
    "    '''Display top of compressed file, similar to `zcat | head` UNIX utility'''\n",
    "\n",
    "    with gzip.open(file_path, 'rt', encoding='utf-8') as infile:\n",
    "        for line in infile:\n",
    "            print(line.strip())\n",
    "            n_lines -= 1\n",
    "            if n_lines == 0:\n",
    "                break\n",
    "\n",
    "\n",
    "# mwsql helper functions\n",
    "def is_insert_statement(line: str) -> bool:\n",
    "    '''Check whether a string is an SQL `insert into` statement.'''\n",
    "\n",
    "    return line.startswith('INSERT INTO')\n",
    "\n",
    "\n",
    "def is_create_statement(line: str) -> bool:\n",
    "    '''Check whether a string is an SQL `create table` statement.'''\n",
    "\n",
    "    return line.startswith('CREATE TABLE')\n",
    "\n",
    "\n",
    "def get_table_name(line: str) -> str:\n",
    "    '''Extract SQL table name from string'''\n",
    "\n",
    "    table_name_pattern = r'`([\\S]*)`'\n",
    "    table_name = re.search(table_name_pattern, line).group(1)\n",
    "    return table_name\n",
    "\n",
    "\n",
    "def has_col_name(line: str) -> bool:\n",
    "    '''Check whether a string contains an SQL column name'''\n",
    "\n",
    "    return line.strip().startswith('`')\n",
    "\n",
    "\n",
    "def get_col_name(line: str) -> str:\n",
    "    '''Extract SQL column names and data types from string'''\n",
    "\n",
    "    col_name_pattern = r'`([\\S]*)`'\n",
    "    col_name = re.search(col_name_pattern, line).group(1)\n",
    "\n",
    "    col_dtype_pattern = r'` ((.)*),'\n",
    "    col_dtype = re.search(col_dtype_pattern, line).group(1)\n",
    "\n",
    "    return col_name, col_dtype\n",
    "\n",
    "\n",
    "def has_primary_key(line: str) -> str:\n",
    "    '''Check whether a string contains an SQL primary key'''\n",
    "\n",
    "    return line.strip().startswith('PRIMARY KEY')\n",
    "\n",
    "\n",
    "def get_primary_key(line: str) -> str:\n",
    "    '''Extract SQL table primary key from string'''\n",
    "\n",
    "    pattern = r'`([\\S]*)`'\n",
    "    primary_key = re.search(pattern, line).group(1).replace('`', '').split(',')\n",
    "\n",
    "    return primary_key\n",
    "\n",
    "\n",
    "def parse_records(records: List[str]):\n",
    "    '''Parse an SQL `insert into` statement into separate records\n",
    "    (also called values, rows, entries...) and return as a csv.reader object.\n",
    "    '''\n",
    "\n",
    "    reader = csv.reader(records, delimiter=',',\n",
    "                                 doublequote=False,\n",
    "                                 escapechar='\\\\',\n",
    "                                 quotechar=\"'\",\n",
    "                                 strict=True\n",
    "                        )\n",
    "    return reader\n",
    "\n",
    "\n",
    "def get_records(line: str) -> List[str]:\n",
    "    '''Split a string containing multiple SQL value tuples into a list\n",
    "    where each element is a csv reader object representing the tuple.\n",
    "    '''\n",
    "\n",
    "    values = line.partition(' VALUES ')[-1].strip().replace('NULL', \"''\")\n",
    "    # Remove `;` at the end of the last `insert into` statement\n",
    "    if values[-1] == ';':\n",
    "        values = values[:-1]\n",
    "    records = re.split(r'\\),\\(', values[1:-1])  # Strip `(` and `)`\n",
    "\n",
    "    return parse_records(records)\n"
   ]
  },
  {
   "cell_type": "markdown",
   "metadata": {},
   "source": [
    "### Contents of /src/mwsql/load.py"
   ]
  },
  {
   "cell_type": "code",
   "execution_count": 35,
   "metadata": {},
   "outputs": [],
   "source": [
    "'''Utilities for easy loading of dump files from\n",
    "PAWS or from the web'''\n",
    "\n",
    "import os\n",
    "# import sys\n",
    "import wget\n",
    "\n",
    "# from mwsql import Dump\n",
    "from urllib.error import HTTPError\n",
    "\n",
    "\n",
    "def progress_bar(current, total, width=60):\n",
    "    '''Custom progress bar for wget downloads'''\n",
    "\n",
    "    unit = 'bytes'\n",
    "\n",
    "    # Show file size in MB for large files\n",
    "    if total >= 100000:\n",
    "        MB = 1024 * 1024\n",
    "        current = current / MB\n",
    "        total = total / MB\n",
    "        unit = 'MB'\n",
    "\n",
    "    progress = current / total\n",
    "    progress_message = f\"Progress: {progress:.0%} [{current:.1f} / {total:.1f}] {unit}\"\n",
    "    sys.stdout.write('\\r' + progress_message)\n",
    "    sys.stdout.flush()\n",
    "\n",
    "\n",
    "def get_source(db, filename):\n",
    "    '''Determine where to get the dump files from depending\n",
    "    on if the user's environment is PAWS or local.\n",
    "    '''\n",
    "\n",
    "    # If in PAWS, set dir\n",
    "    if os.path.exists('/public/dumps/public/'):\n",
    "        prefix = '/public/dumps/public/'\n",
    "        download = False\n",
    "\n",
    "    # If in other environment, set url\n",
    "    else:\n",
    "        prefix = 'https://dumps.wikimedia.org/'\n",
    "        download = True\n",
    "\n",
    "    source = f'{prefix}{db}/latest/{db}-latest-{filename}.sql.gz'\n",
    "    return source, download\n",
    "\n",
    "\n",
    "def load(db, filename):\n",
    "    '''Load dump file from public dir if in PAWS, else download\n",
    "    from the web if the file doesn't already exist in the user's\n",
    "    current working directory\n",
    "    '''\n",
    "\n",
    "    source, download = get_source(db, filename)\n",
    "\n",
    "    if download:\n",
    "        try:\n",
    "            print(f'Downloading {source}')\n",
    "            cwd = os.getcwd()\n",
    "            file = wget.download(source, bar=progress_bar)\n",
    "            file_path = os.path.join(cwd, file)\n",
    "\n",
    "        except HTTPError:\n",
    "            print('File not found')\n",
    "            return None\n",
    "    \n",
    "    else:\n",
    "        file_path = source\n",
    "\n",
    "    try:\n",
    "        dump = Dump.from_file(file_path)\n",
    "        return dump\n",
    "\n",
    "    except:\n",
    "        print(\"Couldn't create dump\")\n",
    "        return None\n"
   ]
  },
  {
   "cell_type": "markdown",
   "metadata": {},
   "source": [
    "### Contents of /src/mwsql/mwsql.py"
   ]
  },
  {
   "cell_type": "code",
   "execution_count": 43,
   "metadata": {},
   "outputs": [],
   "source": [
    "'''A set of utilities for processing MediaWiki SQL dump data'''\n",
    "\n",
    "# __version__ = '0.1.0'\n",
    "\n",
    "# import os\n",
    "# import gzip\n",
    "\n",
    "# from mwsql import utils\n",
    "\n",
    "\n",
    "class Dump:\n",
    "    '''Class for parsing an SQL dump file and processing its contents'''\n",
    "\n",
    "    def __init__(self, table_name, col_names, col_dtypes, primary_key, source_file):\n",
    "\n",
    "        self.name = table_name\n",
    "        self.col_names = col_names\n",
    "        self.dtypes = col_dtypes\n",
    "        self.primary_key = primary_key\n",
    "        self.size = os.path.getsize(source_file)\n",
    "        self._source_file = source_file\n",
    "\n",
    "    def __iter__(self):\n",
    "        return self.rows\n",
    "\n",
    "    @property\n",
    "    def rows(self):\n",
    "        '''Create a generator object from the rows'''\n",
    "\n",
    "        with gzip.open(self._source_file, 'rt', encoding='ISO-8859-1') as infile:\n",
    "            for line in infile:\n",
    "                if is_insert_statement(line):\n",
    "                    rows = get_records(line)\n",
    "                    for row in rows:\n",
    "                        yield row\n",
    "\n",
    "    @classmethod\n",
    "    def from_file(cls, file_path):\n",
    "        '''Initialize mwsql object from dump file'''\n",
    "\n",
    "        source_file = file_path\n",
    "        table_name = None\n",
    "        primary_key = None\n",
    "        col_names = []\n",
    "        col_dtypes = {}\n",
    "\n",
    "        with gzip.open(file_path, 'rt', encoding='ISO-8859-1') as infile:\n",
    "            for line in infile:\n",
    "                if is_insert_statement(line):\n",
    "                    # All metadata is extracted so we return it\n",
    "                    return cls(table_name, col_names, col_dtypes, primary_key, source_file)\n",
    "                if is_create_statement(line):\n",
    "                    table_name = get_table_name(line)\n",
    "                elif has_col_name(line):\n",
    "                    col_name, dtype = get_col_name(line)\n",
    "                    col_names.append(col_name)\n",
    "                    col_dtypes[col_name] = dtype\n",
    "                elif has_primary_key(line):\n",
    "                    primary_key = get_primary_key(line)\n",
    "        return None\n",
    "\n",
    "    def to_csv(self, file_path):\n",
    "        '''Convert mwsql object into CSV file'''\n",
    "        # creates the specified outfile if it doesn't exist\n",
    "        # raises an error if the outfile already exist to avoid overwriting\n",
    "\n",
    "        raise NotImplementedError\n",
    "\n",
    "    def head(self, n_lines=5):\n",
    "        '''Display first n rows'''\n",
    "\n",
    "        rows = self.rows\n",
    "        print(self.col_names)\n",
    "        return [next(rows) for _ in range(n_lines)]\n"
   ]
  },
  {
   "cell_type": "markdown",
   "metadata": {},
   "source": [
    "<a class=\"anchor\" id=\"playground\"></a>\n",
    "## Playground\n",
    "[Return to top](#top)"
   ]
  },
  {
   "cell_type": "code",
   "execution_count": 44,
   "metadata": {},
   "outputs": [
    {
     "name": "stdout",
     "output_type": "stream",
     "text": [
      "Downloading https://dumps.wikimedia.org/simplewiki/latest/simplewiki-latest-change_tag_def.sql.gz\n",
      "Progress: 100% [2122.0 / 2122.0] bytes"
     ]
    }
   ],
   "source": [
    "dump = load('simplewiki', 'change_tag_def')"
   ]
  },
  {
   "cell_type": "code",
   "execution_count": 46,
   "metadata": {},
   "outputs": [
    {
     "data": {
      "text/plain": [
       "'change_tag_def'"
      ]
     },
     "execution_count": 46,
     "metadata": {},
     "output_type": "execute_result"
    }
   ],
   "source": [
    "dump.name"
   ]
  },
  {
   "cell_type": "code",
   "execution_count": 47,
   "metadata": {},
   "outputs": [
    {
     "data": {
      "text/plain": [
       "2122"
      ]
     },
     "execution_count": 47,
     "metadata": {},
     "output_type": "execute_result"
    }
   ],
   "source": [
    "# display dump size in bytes\n",
    "dump.size"
   ]
  },
  {
   "cell_type": "code",
   "execution_count": 48,
   "metadata": {},
   "outputs": [
    {
     "data": {
      "text/plain": [
       "['ctd_id', 'ctd_name', 'ctd_user_defined', 'ctd_count']"
      ]
     },
     "execution_count": 48,
     "metadata": {},
     "output_type": "execute_result"
    }
   ],
   "source": [
    "dump.col_names"
   ]
  },
  {
   "cell_type": "code",
   "execution_count": 49,
   "metadata": {},
   "outputs": [
    {
     "data": {
      "text/plain": [
       "{'ctd_id': 'int(10) unsigned NOT NULL AUTO_INCREMENT',\n",
       " 'ctd_name': 'varbinary(255) NOT NULL',\n",
       " 'ctd_user_defined': 'tinyint(1) NOT NULL',\n",
       " 'ctd_count': 'bigint(20) unsigned NOT NULL DEFAULT 0'}"
      ]
     },
     "execution_count": 49,
     "metadata": {},
     "output_type": "execute_result"
    }
   ],
   "source": [
    "# original SQL data types\n",
    "dump.dtypes"
   ]
  },
  {
   "cell_type": "code",
   "execution_count": 51,
   "metadata": {},
   "outputs": [
    {
     "data": {
      "text/plain": [
       "['ctd_id']"
      ]
     },
     "execution_count": 51,
     "metadata": {},
     "output_type": "execute_result"
    }
   ],
   "source": [
    "dump.primary_key"
   ]
  },
  {
   "cell_type": "code",
   "execution_count": 50,
   "metadata": {},
   "outputs": [
    {
     "name": "stdout",
     "output_type": "stream",
     "text": [
      "['ctd_id', 'ctd_name', 'ctd_user_defined', 'ctd_count']\n"
     ]
    },
    {
     "data": {
      "text/plain": [
       "[['1', 'mw-replace', '0', '9840'],\n",
       " ['2', 'visualeditor', '0', '299284'],\n",
       " ['3', 'mw-undo', '0', '55938'],\n",
       " ['4', 'mw-rollback', '0', '69231'],\n",
       " ['5', 'mobile edit', '0', '222801']]"
      ]
     },
     "execution_count": 50,
     "metadata": {},
     "output_type": "execute_result"
    }
   ],
   "source": [
    "dump.head()"
   ]
  },
  {
   "cell_type": "code",
   "execution_count": 56,
   "metadata": {},
   "outputs": [],
   "source": [
    "# create generator\n",
    "rows = dump.rows"
   ]
  },
  {
   "cell_type": "code",
   "execution_count": 57,
   "metadata": {},
   "outputs": [
    {
     "name": "stdout",
     "output_type": "stream",
     "text": [
      "['1', 'mw-replace', '0', '9840']\n",
      "['2', 'visualeditor', '0', '299284']\n",
      "['3', 'mw-undo', '0', '55938']\n",
      "['4', 'mw-rollback', '0', '69231']\n",
      "['5', 'mobile edit', '0', '222801']\n",
      "['6', 'mobile web edit', '0', '215421']\n",
      "['7', 'very short new article', '0', '28126']\n",
      "['8', 'visualeditor-wikitext', '0', '19553']\n",
      "['9', 'mw-new-redirect', '0', '28885']\n",
      "['10', 'visualeditor-switched', '0', '17278']\n"
     ]
    }
   ],
   "source": [
    "for _ in range(10):\n",
    "    print(next(rows))"
   ]
  },
  {
   "cell_type": "code",
   "execution_count": null,
   "metadata": {},
   "outputs": [],
   "source": []
  }
 ],
 "metadata": {
  "kernelspec": {
   "display_name": "mwsql",
   "language": "python",
   "name": "mwsql"
  },
  "language_info": {
   "codemirror_mode": {
    "name": "ipython",
    "version": 3
   },
   "file_extension": ".py",
   "mimetype": "text/x-python",
   "name": "python",
   "nbconvert_exporter": "python",
   "pygments_lexer": "ipython3",
   "version": "3.8.5"
  }
 },
 "nbformat": 4,
 "nbformat_minor": 4
}
